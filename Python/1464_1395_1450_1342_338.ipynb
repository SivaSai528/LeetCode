{
 "cells": [
  {
   "cell_type": "markdown",
   "id": "7644689a",
   "metadata": {},
   "source": [
    "# Maximum Product of Two Elements in an Array"
   ]
  },
  {
   "cell_type": "code",
   "execution_count": 1,
   "id": "5144f412",
   "metadata": {},
   "outputs": [
    {
     "name": "stdout",
     "output_type": "stream",
     "text": [
      "1 2 3 4\n"
     ]
    },
    {
     "data": {
      "text/plain": [
       "6"
      ]
     },
     "execution_count": 1,
     "metadata": {},
     "output_type": "execute_result"
    }
   ],
   "source": [
    "'''\n",
    "Given the array of integers nums, you will choose two different indices i and j of that array. \n",
    "Return the maximum value of (nums[i]-1)*(nums[j]-1).\n",
    "'''\n",
    "def maxProduct(nums):\n",
    "    \"\"\"\n",
    "    :type nums: List[int]\n",
    "    :rtype: int\n",
    "    \"\"\"\n",
    "    nums_1=sorted(nums,reverse=True)\n",
    "    return (nums_1[0]-1)*(nums_1[1]-1)\n",
    "nums=list(map(int,input().split(\" \")))\n",
    "maxProduct(nums)"
   ]
  },
  {
   "cell_type": "markdown",
   "id": "15311d43",
   "metadata": {},
   "source": [
    "# Count Number of Teams"
   ]
  },
  {
   "cell_type": "code",
   "execution_count": 21,
   "id": "25b4c9e5",
   "metadata": {},
   "outputs": [
    {
     "name": "stdout",
     "output_type": "stream",
     "text": [
      "2 3 5 4 1\n"
     ]
    },
    {
     "data": {
      "text/plain": [
       "3"
      ]
     },
     "execution_count": 21,
     "metadata": {},
     "output_type": "execute_result"
    }
   ],
   "source": [
    "'''\n",
    "There are n soldiers standing in a line. Each soldier is assigned a unique rating value.\n",
    "\n",
    "You have to form a team of 3 soldiers amongst them under the following rules:\n",
    "\n",
    "Choose 3 soldiers with index (i, j, k) with rating (rating[i], rating[j], rating[k]).\n",
    "A team is valid if: (rating[i] < rating[j] < rating[k]) or (rating[i] > rating[j] > rating[k]) where (0 <= i < j < k < n).\n",
    "Return the number of teams you can form given the conditions. (soldiers can be part of multiple teams).\n",
    "'''\n",
    "\n",
    "def numTeams(rating):\n",
    "    \"\"\"\n",
    "    :type rating: List[int]\n",
    "    :rtype: int\n",
    "    \"\"\"\n",
    "    result = 0 \n",
    "\n",
    "    for i in range(1, len(rating)-1, 1):\n",
    "        left_low = left_high = right_low = right_high = 0\n",
    "        curr = rating[i]\n",
    "\n",
    "        for j in range(i):\n",
    "            if rating[j] < curr:\n",
    "                left_high += 1\n",
    "            else:\n",
    "                left_low += 1\n",
    "\n",
    "        for j in range(i+1, len(rating), 1):\n",
    "            if rating[j] < curr:\n",
    "                right_high += 1\n",
    "            else:\n",
    "                right_low += 1\n",
    "            \n",
    "        result += left_low * right_high + left_high * right_low\n",
    "\n",
    "    return result\n",
    "rating=list(map(int,input().split(\" \")))\n",
    "numTeams(rating)"
   ]
  },
  {
   "cell_type": "markdown",
   "id": "31313da9",
   "metadata": {},
   "source": [
    "# Number of Students Doing Homework at a Given Time"
   ]
  },
  {
   "cell_type": "code",
   "execution_count": 23,
   "id": "417779e5",
   "metadata": {},
   "outputs": [
    {
     "name": "stdout",
     "output_type": "stream",
     "text": [
      "1 2 3\n",
      "2 3 6\n",
      "4\n"
     ]
    },
    {
     "data": {
      "text/plain": [
       "1"
      ]
     },
     "execution_count": 23,
     "metadata": {},
     "output_type": "execute_result"
    }
   ],
   "source": [
    "'''\n",
    "Given two integer arrays startTime and endTime and given an integer queryTime.\n",
    "\n",
    "The ith student started doing their homework at the time startTime[i] and finished it at time endTime[i].\n",
    "\n",
    "Return the number of students doing their homework at time queryTime.\n",
    "More formally, return the number of students where queryTime lays in the interval [startTime[i], endTime[i]] inclusive.\n",
    "'''\n",
    "def busyStudent(startTime, endTime, queryTime):\n",
    "    \"\"\"\n",
    "    :type startTime: List[int]\n",
    "    :type endTime: List[int]\n",
    "    :type queryTime: int\n",
    "    :rtype: int\n",
    "    \"\"\"\n",
    "    count=0\n",
    "    for i in range(len(startTime)):\n",
    "        if (startTime[i]<=queryTime<=endTime[i]):\n",
    "            count+=1\n",
    "    return count\n",
    "startTime=list(map(int,input().split(\" \")))\n",
    "endTime=list(map(int,input().split(\" \")))\n",
    "queryTime=int(input())\n",
    "busyStudent(startTime, endTime, queryTime)"
   ]
  },
  {
   "cell_type": "markdown",
   "id": "dd6779fc",
   "metadata": {},
   "source": [
    "# Number of Steps to Reduce a Number to Zero"
   ]
  },
  {
   "cell_type": "code",
   "execution_count": 24,
   "id": "538519a7",
   "metadata": {},
   "outputs": [
    {
     "name": "stdout",
     "output_type": "stream",
     "text": [
      "16\n"
     ]
    },
    {
     "data": {
      "text/plain": [
       "5"
      ]
     },
     "execution_count": 24,
     "metadata": {},
     "output_type": "execute_result"
    }
   ],
   "source": [
    "'''\n",
    "Given an integer num, return the number of steps to reduce it to zero.\n",
    "In one step, if the current number is even, you have to divide it by 2, otherwise, you have to subtract 1 from it.\n",
    "'''\n",
    "def numberOfSteps(num):\n",
    "    \"\"\"\n",
    "    :type num: int\n",
    "    :rtype: int\n",
    "    \"\"\"\n",
    "    count=0\n",
    "    while(num > 0):\n",
    "        if(num % 2 ==0):\n",
    "            count+=1\n",
    "            num=num/2\n",
    "        else:\n",
    "            count+=1\n",
    "            num-=1\n",
    "    return count\n",
    "num=int(input())\n",
    "numberOfSteps(num)"
   ]
  },
  {
   "cell_type": "markdown",
   "id": "d6091fae",
   "metadata": {},
   "source": [
    "# Counting Bits"
   ]
  },
  {
   "cell_type": "code",
   "execution_count": 28,
   "id": "5b1cffe5",
   "metadata": {},
   "outputs": [
    {
     "name": "stdout",
     "output_type": "stream",
     "text": [
      "4\n"
     ]
    },
    {
     "data": {
      "text/plain": [
       "[0, 1, 1, 2, 1]"
      ]
     },
     "execution_count": 28,
     "metadata": {},
     "output_type": "execute_result"
    }
   ],
   "source": [
    "'''\n",
    "Given an integer n, return an array ans of length n + 1 such that for each i (0 <= i <= n), \n",
    "ans[i] is the number of 1's in the binary representation of i.\n",
    "'''\n",
    "\n",
    "def countBits(num):\n",
    "    l=[]\n",
    "    for i in range(0,num+1):\n",
    "        l.append((bin(i).count(\"1\")))\n",
    "    return l\n",
    "num=int(input())\n",
    "countBits(num)"
   ]
  },
  {
   "cell_type": "code",
   "execution_count": null,
   "id": "bff2a9e5",
   "metadata": {},
   "outputs": [],
   "source": []
  }
 ],
 "metadata": {
  "kernelspec": {
   "display_name": "Python 3 (ipykernel)",
   "language": "python",
   "name": "python3"
  },
  "language_info": {
   "codemirror_mode": {
    "name": "ipython",
    "version": 3
   },
   "file_extension": ".py",
   "mimetype": "text/x-python",
   "name": "python",
   "nbconvert_exporter": "python",
   "pygments_lexer": "ipython3",
   "version": "3.9.7"
  }
 },
 "nbformat": 4,
 "nbformat_minor": 5
}
