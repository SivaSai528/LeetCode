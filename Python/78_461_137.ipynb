{
 "cells": [
  {
   "cell_type": "markdown",
   "id": "93b6821a",
   "metadata": {},
   "source": [
    "# Subsets"
   ]
  },
  {
   "cell_type": "code",
   "execution_count": 1,
   "id": "5e3fcf69",
   "metadata": {},
   "outputs": [
    {
     "name": "stdout",
     "output_type": "stream",
     "text": [
      "1 2 3\n"
     ]
    },
    {
     "data": {
      "text/plain": [
       "[[], [1], [2], [1, 2], [3], [1, 3], [2, 3], [1, 2, 3]]"
      ]
     },
     "execution_count": 1,
     "metadata": {},
     "output_type": "execute_result"
    }
   ],
   "source": [
    "'''\n",
    "Given an integer array nums of unique elements, return all possible subsets(the power set).\n",
    "The solution set must not contain duplicate subsets. Return the solution in any order.\n",
    "'''\n",
    "def subsets(nums):\n",
    "    \"\"\"\n",
    "    :type nums: List[int]\n",
    "    :rtype: List[List[int]]\n",
    "    \"\"\"\n",
    "    result = [[]]\n",
    "    for num in nums:\n",
    "        result += [curr + [num] for curr in result]\n",
    "    return result\n",
    "nums=list(map(int,input().split(\" \")))\n",
    "subsets(nums)"
   ]
  },
  {
   "cell_type": "markdown",
   "id": "8e77f9c3",
   "metadata": {},
   "source": [
    "# Hamming Distance"
   ]
  },
  {
   "cell_type": "code",
   "execution_count": 3,
   "id": "6544d53f",
   "metadata": {},
   "outputs": [
    {
     "name": "stdout",
     "output_type": "stream",
     "text": [
      "1\n",
      "7\n"
     ]
    },
    {
     "data": {
      "text/plain": [
       "2"
      ]
     },
     "execution_count": 3,
     "metadata": {},
     "output_type": "execute_result"
    }
   ],
   "source": [
    "'''\n",
    "The Hamming distance between two integers is the number of positions at which the corresponding bits are different.\n",
    "Given two integers x and y, return the Hamming distance between them.\n",
    "'''\n",
    "def hammingDistance(x, y):\n",
    "    \"\"\"\n",
    "    :type x: int\n",
    "    :type y: int\n",
    "    :rtype: int\n",
    "    \"\"\"\n",
    "    return bin(x ^ y).count('1')\n",
    "x=int(input())\n",
    "y=int(input())\n",
    "hammingDistance(x, y)"
   ]
  },
  {
   "cell_type": "markdown",
   "id": "13f15189",
   "metadata": {},
   "source": [
    "# Single Number II"
   ]
  },
  {
   "cell_type": "code",
   "execution_count": 7,
   "id": "d4a4a128",
   "metadata": {},
   "outputs": [
    {
     "name": "stdout",
     "output_type": "stream",
     "text": [
      "2 3 3 3\n"
     ]
    },
    {
     "data": {
      "text/plain": [
       "2"
      ]
     },
     "execution_count": 7,
     "metadata": {},
     "output_type": "execute_result"
    }
   ],
   "source": [
    "'''\n",
    "Given an integer array nums where every element appears three times except for one, which appears exactly once.\n",
    "Find the single element and return it.\n",
    "You must implement a solution with a linear runtime complexity and use only constant extra space.\n",
    "'''\n",
    "def singleNumber(nums):\n",
    "    \"\"\"\n",
    "    :type nums: List[int]\n",
    "    :rtype: int\n",
    "    \"\"\"\n",
    "    return (3 * sum(set(nums)) - sum(nums))//2\n",
    "nums=list(map(int,input().split(\" \")))\n",
    "singleNumber(nums)"
   ]
  },
  {
   "cell_type": "code",
   "execution_count": null,
   "id": "10926ae9",
   "metadata": {},
   "outputs": [],
   "source": []
  }
 ],
 "metadata": {
  "kernelspec": {
   "display_name": "Python 3 (ipykernel)",
   "language": "python",
   "name": "python3"
  },
  "language_info": {
   "codemirror_mode": {
    "name": "ipython",
    "version": 3
   },
   "file_extension": ".py",
   "mimetype": "text/x-python",
   "name": "python",
   "nbconvert_exporter": "python",
   "pygments_lexer": "ipython3",
   "version": "3.9.7"
  }
 },
 "nbformat": 4,
 "nbformat_minor": 5
}
