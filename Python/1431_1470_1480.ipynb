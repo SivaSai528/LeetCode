{
 "cells": [
  {
   "cell_type": "markdown",
   "id": "782c3105",
   "metadata": {},
   "source": [
    "#  Running Sum of 1d Array\n"
   ]
  },
  {
   "cell_type": "code",
   "execution_count": 10,
   "id": "08bcc636",
   "metadata": {},
   "outputs": [
    {
     "data": {
      "text/plain": [
       "[1, 3, 6, 10]"
      ]
     },
     "execution_count": 10,
     "metadata": {},
     "output_type": "execute_result"
    }
   ],
   "source": [
    "'''\n",
    "Given an array nums. We define a running sum of an array as runningSum[i] = sum(nums[0]…nums[i]).\n",
    "Return the running sum of nums.\n",
    "'''\n",
    "def runningSum(nums):\n",
    "    \"\"\"\n",
    "    :type nums: List[int]\n",
    "    :rtype: List[int]\n",
    "    \"\"\"\n",
    "    for j in range (1,len(nums)):\n",
    "        nums[j]+=nums[j-1]\n",
    "    return nums\n",
    "nums=[1,2,3,4]\n",
    "runningSum(nums)"
   ]
  },
  {
   "cell_type": "markdown",
   "id": "467f47a2",
   "metadata": {},
   "source": [
    "#  Shuffle the Array"
   ]
  },
  {
   "cell_type": "code",
   "execution_count": 11,
   "id": "2d36d00f",
   "metadata": {},
   "outputs": [
    {
     "data": {
      "text/plain": [
       "[2, 3, 5, 4, 1, 7]"
      ]
     },
     "execution_count": 11,
     "metadata": {},
     "output_type": "execute_result"
    }
   ],
   "source": [
    "'''\n",
    "Given the array nums consisting of 2n elements in the form [x1,x2,...,xn,y1,y2,...,yn].\n",
    "\n",
    "Return the array in the form [x1,y1,x2,y2,...,xn,yn].\n",
    "'''\n",
    "def shuffle(nums, n):\n",
    "    \"\"\"\n",
    "        :type nums: List[int]\n",
    "        :type n: int\n",
    "        :rtype: List[int]\n",
    "    \"\"\"\n",
    "    l=list()\n",
    "    for i in range(0,n):\n",
    "            l.append(nums[i])\n",
    "            l.append(nums[i+n])\n",
    "    return l\n",
    "nums = [2,5,1,3,4,7]\n",
    "n = 3\n",
    "shuffle(nums,n)"
   ]
  },
  {
   "cell_type": "markdown",
   "id": "29b134ac",
   "metadata": {},
   "source": [
    "# Kids With the Greatest Number of Candies"
   ]
  },
  {
   "cell_type": "code",
   "execution_count": 16,
   "id": "aa801685",
   "metadata": {},
   "outputs": [
    {
     "data": {
      "text/plain": [
       "[True, True, True, False, True]"
      ]
     },
     "execution_count": 16,
     "metadata": {},
     "output_type": "execute_result"
    }
   ],
   "source": [
    "'''\n",
    "There are n kids with candies. \n",
    "You are given an integer array candies, where each candies[i] represents the number of candies the ith kid has, and an integer extraCandies, denoting the number of extra candies that you have.\n",
    "\n",
    "Return a boolean array result of length n, where result[i] is true if, after giving the ith kid all the extraCandies, they will have the greatest number of candies among all the kids, or false otherwise.\n",
    "'''\n",
    "\n",
    "def kidsWithCandies(candies, extraCandies):\n",
    "    Bl= list()\n",
    "    m=max(candies)\n",
    "    for i in range(0,len(candies)):\n",
    "        if(candies[i]+extraCandies>=m):\n",
    "            Bl.append(True)\n",
    "        else:\n",
    "            Bl.append(False)\n",
    "    return Bl\n",
    "candies = [2,3,5,1,3]\n",
    "extraCandies = 3\n",
    "kidsWithCandies(candies, extraCandies)"
   ]
  },
  {
   "cell_type": "code",
   "execution_count": null,
   "id": "a9a77a10",
   "metadata": {},
   "outputs": [],
   "source": []
  }
 ],
 "metadata": {
  "kernelspec": {
   "display_name": "Python 3 (ipykernel)",
   "language": "python",
   "name": "python3"
  },
  "language_info": {
   "codemirror_mode": {
    "name": "ipython",
    "version": 3
   },
   "file_extension": ".py",
   "mimetype": "text/x-python",
   "name": "python",
   "nbconvert_exporter": "python",
   "pygments_lexer": "ipython3",
   "version": "3.9.7"
  }
 },
 "nbformat": 4,
 "nbformat_minor": 5
}
