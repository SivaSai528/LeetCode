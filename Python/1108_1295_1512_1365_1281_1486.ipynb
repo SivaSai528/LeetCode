{
 "cells": [
  {
   "cell_type": "markdown",
   "id": "e1094fab",
   "metadata": {},
   "source": [
    "# Defanging an IP Address\n"
   ]
  },
  {
   "cell_type": "code",
   "execution_count": 1,
   "id": "ff9ffa31",
   "metadata": {},
   "outputs": [
    {
     "name": "stdout",
     "output_type": "stream",
     "text": [
      "1.1.1.2\n"
     ]
    },
    {
     "data": {
      "text/plain": [
       "'1[.]1[.]1[.]2'"
      ]
     },
     "execution_count": 1,
     "metadata": {},
     "output_type": "execute_result"
    }
   ],
   "source": [
    "'''Given a valid (IPv4) IP address, return a defanged version of that IP address.\n",
    "A defanged IP address replaces every period \".\" with \"[.]\".'''\n",
    "def defangIPaddr(address):\n",
    "    \"\"\"\n",
    "    :type address: str\n",
    "    :rtype: str\n",
    "    \"\"\"\n",
    "    return address.replace('.','[.]')\n",
    "address=input()\n",
    "defangIPaddr(address)"
   ]
  },
  {
   "cell_type": "markdown",
   "id": "7e7221a7",
   "metadata": {},
   "source": [
    "# Find Numbers with Even Number of Digits"
   ]
  },
  {
   "cell_type": "code",
   "execution_count": 4,
   "id": "eaed592d",
   "metadata": {},
   "outputs": [
    {
     "name": "stdout",
     "output_type": "stream",
     "text": [
      "10 20 301\n"
     ]
    },
    {
     "data": {
      "text/plain": [
       "2"
      ]
     },
     "execution_count": 4,
     "metadata": {},
     "output_type": "execute_result"
    }
   ],
   "source": [
    "'''\n",
    "Given an array nums of integers, return how many of them contain an even number of digits.\n",
    "'''\n",
    "def findNumbers(nums):\n",
    "    \"\"\"\n",
    "    :type nums: List[int]\n",
    "    :rtype: int\n",
    "    \"\"\"\n",
    "    count=0\n",
    "    for i in nums:\n",
    "        x=i\n",
    "        digitcount=0\n",
    "        while(x>0):\n",
    "            x=x//10\n",
    "            digitcount+=1 \n",
    "        if(digitcount%2==0):\n",
    "            count=count+1\n",
    "    return count\n",
    "nums=list(map(int,input().split(\" \")))\n",
    "findNumbers(nums)"
   ]
  },
  {
   "cell_type": "markdown",
   "id": "16aa3be0",
   "metadata": {},
   "source": [
    "# Number of Good Pairs"
   ]
  },
  {
   "cell_type": "code",
   "execution_count": 5,
   "id": "a665488b",
   "metadata": {},
   "outputs": [
    {
     "name": "stdout",
     "output_type": "stream",
     "text": [
      "1 2 3 1 1 3\n"
     ]
    },
    {
     "data": {
      "text/plain": [
       "4"
      ]
     },
     "execution_count": 5,
     "metadata": {},
     "output_type": "execute_result"
    }
   ],
   "source": [
    "'''\n",
    "Given an array of integers nums, return the number of good pairs.\n",
    "A pair (i, j) is called good if nums[i] == nums[j] and i < j.\n",
    "'''\n",
    "def numIdenticalPairs(nums):\n",
    "    \"\"\"\n",
    "    :type nums: List[int]\n",
    "    :rtype: int\n",
    "    \"\"\"\n",
    "    count = 0\n",
    "    for i in range(len(nums)):\n",
    "        for j in range(i+1, len(nums)):\n",
    "            if(nums[i] == nums[j]):\n",
    "                count += 1\n",
    "    return count\n",
    "nums=list(map(int,input().split(\" \")))\n",
    "numIdenticalPairs(nums)"
   ]
  },
  {
   "cell_type": "markdown",
   "id": "7ce67c61",
   "metadata": {},
   "source": [
    "# How Many Numbers Are Smaller Than the Current Number"
   ]
  },
  {
   "cell_type": "code",
   "execution_count": 14,
   "id": "ca0c27ed",
   "metadata": {},
   "outputs": [
    {
     "name": "stdout",
     "output_type": "stream",
     "text": [
      "8 2 3 2 4\n"
     ]
    },
    {
     "data": {
      "text/plain": [
       "[4, 0, 2, 0, 3]"
      ]
     },
     "execution_count": 14,
     "metadata": {},
     "output_type": "execute_result"
    }
   ],
   "source": [
    "'''\n",
    "Given the array nums, for each nums[i] find out how many numbers in the array are smaller than it. \n",
    "That is, for each nums[i] you have to count the number of valid j's such that j != i and nums[j] < nums[i].\n",
    "Return the answer in an array.\n",
    "'''\n",
    "def smallerNumbersThanCurrent(nums):\n",
    "    \"\"\"\n",
    "    :type nums: List[int]\n",
    "    :rtype: List[int]\n",
    "    \"\"\"\n",
    "    answer=[]\n",
    "    count=0\n",
    "    for i in nums:\n",
    "        for j in range(len(nums)):\n",
    "            if (nums[j]-i)<0:\n",
    "               count+=1\n",
    "        answer.append(count)\n",
    "        count=0\n",
    "    return answer\n",
    "nums=list(map(int,input().split(\" \")))\n",
    "smallerNumbersThanCurrent(nums)"
   ]
  },
  {
   "cell_type": "markdown",
   "id": "e06f29ca",
   "metadata": {},
   "source": [
    "# Subtract the Product and Sum of Digits of an Integer"
   ]
  },
  {
   "cell_type": "code",
   "execution_count": 23,
   "id": "45cd691d",
   "metadata": {},
   "outputs": [
    {
     "name": "stdout",
     "output_type": "stream",
     "text": [
      "234\n"
     ]
    },
    {
     "data": {
      "text/plain": [
       "15"
      ]
     },
     "execution_count": 23,
     "metadata": {},
     "output_type": "execute_result"
    }
   ],
   "source": [
    "'''\n",
    "Given an integer number n, return the difference between the product of its digits and the sum of its digits.\n",
    "'''\n",
    "def subtractProductAndSum(n):\n",
    "    \"\"\"\n",
    "    :type n: int\n",
    "    :rtype: int\n",
    "    \"\"\"\n",
    "    sum_ = 0\n",
    "    product = 1\n",
    "    while (n > 0):\n",
    "        sum_ += n % 10\n",
    "        product *= n % 10\n",
    "        n //= 10\n",
    "    return product - sum_\n",
    "n=int(input())\n",
    "subtractProductAndSum(n)"
   ]
  },
  {
   "cell_type": "markdown",
   "id": "df1ca369",
   "metadata": {},
   "source": [
    "# XOR Operation in an Array"
   ]
  },
  {
   "cell_type": "code",
   "execution_count": 25,
   "id": "680e8fbc",
   "metadata": {},
   "outputs": [
    {
     "name": "stdout",
     "output_type": "stream",
     "text": [
      "4\n",
      "3\n"
     ]
    },
    {
     "data": {
      "text/plain": [
       "8"
      ]
     },
     "execution_count": 25,
     "metadata": {},
     "output_type": "execute_result"
    }
   ],
   "source": [
    "'''\n",
    "You are given an integer n and an integer start.\n",
    "Define an array nums where nums[i] = start + 2 * i (0-indexed) and n == nums.length.\n",
    "Return the bitwise XOR of all elements of nums.\n",
    "'''\n",
    "\n",
    "def xorOperation(n, start):\n",
    "    \"\"\"\n",
    "    :type n: int\n",
    "    :type start: int\n",
    "    :rtype: int\n",
    "    \"\"\"\n",
    "    count = start\n",
    "    while n-1 > 0:\n",
    "        count ^= 2 + start\n",
    "        n -= 1\n",
    "        start += 2\n",
    "    return count\n",
    "n=int(input())\n",
    "start=int(input())\n",
    "xorOperation(n, start)"
   ]
  }
 ],
 "metadata": {
  "kernelspec": {
   "display_name": "Python 3 (ipykernel)",
   "language": "python",
   "name": "python3"
  },
  "language_info": {
   "codemirror_mode": {
    "name": "ipython",
    "version": 3
   },
   "file_extension": ".py",
   "mimetype": "text/x-python",
   "name": "python",
   "nbconvert_exporter": "python",
   "pygments_lexer": "ipython3",
   "version": "3.9.7"
  }
 },
 "nbformat": 4,
 "nbformat_minor": 5
}
