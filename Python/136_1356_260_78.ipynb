{
 "cells": [
  {
   "cell_type": "markdown",
   "id": "c2e1bd4c",
   "metadata": {},
   "source": [
    "# Single Number"
   ]
  },
  {
   "cell_type": "code",
   "execution_count": 1,
   "id": "7a5db808",
   "metadata": {},
   "outputs": [
    {
     "name": "stdout",
     "output_type": "stream",
     "text": [
      "1 2 2\n"
     ]
    },
    {
     "data": {
      "text/plain": [
       "1"
      ]
     },
     "execution_count": 1,
     "metadata": {},
     "output_type": "execute_result"
    }
   ],
   "source": [
    "'''\n",
    "Given a non-empty array of integers nums, every element appears twice except for one. Find that single one.\n",
    "You must implement a solution with a linear runtime complexity and use only constant extra space\n",
    "'''\n",
    "\n",
    "def singleNumber(nums):\n",
    "    \"\"\"\n",
    "    :type nums: List[int]\n",
    "    :rtype: int\n",
    "    \"\"\"\n",
    "    return 2 * sum(set(nums)) - sum(nums)\n",
    "nums=list(map(int,input().split(\" \")))\n",
    "singleNumber(nums)"
   ]
  },
  {
   "cell_type": "markdown",
   "id": "e1776c19",
   "metadata": {},
   "source": [
    "# Sort Integers by The Number of 1 Bits"
   ]
  },
  {
   "cell_type": "code",
   "execution_count": 7,
   "id": "3d6d678d",
   "metadata": {},
   "outputs": [
    {
     "name": "stdout",
     "output_type": "stream",
     "text": [
      "1 4 3 2\n"
     ]
    },
    {
     "data": {
      "text/plain": [
       "[1, 2, 4, 3]"
      ]
     },
     "execution_count": 7,
     "metadata": {},
     "output_type": "execute_result"
    }
   ],
   "source": [
    "'''\n",
    "You are given an integer array arr. \n",
    "Sort the integers in the array in ascending order by the number of 1's in their binary representation \n",
    "and in case of two or more integers have the same number of 1's you have to sort them in ascending order.\n",
    "'''\n",
    "def sortByBits(arr):\n",
    "    \"\"\"\n",
    "    :type arr: List[int]\n",
    "    :rtype: List[int]\n",
    "    \"\"\"\n",
    "    arr.sort(key=lambda x: (bin(x).count(\"1\"), x))\n",
    "    return arr\n",
    "nums=list(map(int,input().split(\" \")))\n",
    "sortByBits(nums)"
   ]
  },
  {
   "cell_type": "markdown",
   "id": "4a9abbbd",
   "metadata": {},
   "source": [
    "# Single Number III"
   ]
  },
  {
   "cell_type": "code",
   "execution_count": 8,
   "id": "ca2db3cd",
   "metadata": {},
   "outputs": [
    {
     "name": "stdout",
     "output_type": "stream",
     "text": [
      "1 2 3 2 1\n"
     ]
    },
    {
     "data": {
      "text/plain": [
       "[3]"
      ]
     },
     "execution_count": 8,
     "metadata": {},
     "output_type": "execute_result"
    }
   ],
   "source": [
    "'''\n",
    "Given an integer array nums, \n",
    "in which exactly two elements appear only once and all the other elements appear exactly twice. \n",
    "Find the two elements that appear only once. You can return the answer in any order.\n",
    "'''\n",
    "def singleNumber(nums):\n",
    "    \"\"\"\n",
    "    :type nums: List[int]\n",
    "    :rtype: List[int]\n",
    "    \"\"\"\n",
    "    ans = []\n",
    "    for i in nums:\n",
    "        if i not in ans:\n",
    "            ans.append(i)\n",
    "        else:\n",
    "            ans.remove(i)\n",
    "    return ans\n",
    "nums=list(map(int,input().split(\" \")))\n",
    "singleNumber(nums)"
   ]
  },
  {
   "cell_type": "markdown",
   "id": "30f0f55a",
   "metadata": {},
   "source": [
    "# Subsets"
   ]
  },
  {
   "cell_type": "code",
   "execution_count": 11,
   "id": "658ebf31",
   "metadata": {},
   "outputs": [
    {
     "name": "stdout",
     "output_type": "stream",
     "text": [
      "1 2 3\n"
     ]
    },
    {
     "data": {
      "text/plain": [
       "[[], [1], [2], [1, 2], [3], [1, 3], [2, 3], [1, 2, 3]]"
      ]
     },
     "execution_count": 11,
     "metadata": {},
     "output_type": "execute_result"
    }
   ],
   "source": [
    "'''\n",
    "Given an integer array nums of unique elements, return all possible subsets(the power set).\n",
    "The solution set must not contain duplicate subsets. Return the solution in any order.\n",
    "'''\n",
    "def subsets(nums):\n",
    "    \"\"\"\n",
    "    :type nums: List[int]\n",
    "    :rtype: List[List[int]]\n",
    "    \"\"\"\n",
    "    result = [[]]\n",
    "    for num in nums:\n",
    "        result += [curr + [num] for curr in result]\n",
    "    return result\n",
    "nums=list(map(int,input().split(\" \")))\n",
    "subsets(nums)"
   ]
  },
  {
   "cell_type": "code",
   "execution_count": null,
   "id": "92b9a0e9",
   "metadata": {},
   "outputs": [],
   "source": []
  }
 ],
 "metadata": {
  "kernelspec": {
   "display_name": "Python 3 (ipykernel)",
   "language": "python",
   "name": "python3"
  },
  "language_info": {
   "codemirror_mode": {
    "name": "ipython",
    "version": 3
   },
   "file_extension": ".py",
   "mimetype": "text/x-python",
   "name": "python",
   "nbconvert_exporter": "python",
   "pygments_lexer": "ipython3",
   "version": "3.9.7"
  }
 },
 "nbformat": 4,
 "nbformat_minor": 5
}
